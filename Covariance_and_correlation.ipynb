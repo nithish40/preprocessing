{
  "nbformat": 4,
  "nbformat_minor": 0,
  "metadata": {
    "colab": {
      "provenance": []
    },
    "kernelspec": {
      "name": "python3",
      "display_name": "Python 3"
    },
    "language_info": {
      "name": "python"
    }
  },
  "cells": [
    {
      "cell_type": "code",
      "execution_count": null,
      "metadata": {
        "colab": {
          "base_uri": "https://localhost:8080/"
        },
        "id": "1Oq76fjNeHde",
        "outputId": "5ba853bb-7e00-4ca6-b1ae-ecccab129a30"
      },
      "outputs": [
        {
          "output_type": "stream",
          "name": "stdout",
          "text": [
            "Array :  [ 10  20  30  40  50  60  70  80  90 100]\n",
            "Mean :  55.0\n",
            "Simple Variance :  916.6666666666666\n",
            "population_variance :  825.0\n"
          ]
        }
      ],
      "source": [
        "import numpy as np\n",
        "N=10\n",
        "nums=np.array([10,20,30,40,50,60,70,80,90,100])\n",
        "mean=np.mean(nums)\n",
        "population_variance=np.var(nums)\n",
        "simple_variance=np.var(nums,ddof=1)\n",
        "\n",
        "print(\"Array : \",nums)\n",
        "print(\"Mean : \",mean)\n",
        "print(\"Simple Variance : \",simple_variance)\n",
        "print(\"population_variance : \",population_variance)"
      ]
    },
    {
      "cell_type": "code",
      "source": [
        "import numpy as np\n",
        "N=10\n",
        "vector_x=np.array([12,65,13,21,18,24,26,11,9,10])\n",
        "vector_y=np.array([22,29,32,36,42,48,12,17,21,8])\n",
        "\n",
        "x_mean=np.mean(vector_x)\n",
        "y_mean=np.mean(vector_y)\n",
        "\n",
        "cov=np.sum((vector_x-x_mean)*(vector_y-y_mean))/(N-1)\n",
        "\n",
        "print(\"vector 1 (x) : \",vector_x)\n",
        "print(\"vector 2 (y) : \",vector_y)\n",
        "print(\"covariance : \",cov)"
      ],
      "metadata": {
        "colab": {
          "base_uri": "https://localhost:8080/"
        },
        "id": "DIQnpY9Q3nFY",
        "outputId": "70b82582-6513-4b9b-9c21-34ba47d5700d"
      },
      "execution_count": null,
      "outputs": [
        {
          "output_type": "stream",
          "name": "stdout",
          "text": [
            "vector 1 (x) :  [12 65 13 21 18 24 26 11  9 10]\n",
            "vector 2 (y) :  [22 29 32 36 42 48 12 17 21  8]\n",
            "covariance :  46.3\n"
          ]
        }
      ]
    },
    {
      "cell_type": "code",
      "source": [
        "import numpy as np\n",
        "N=10\n",
        "x=np.array([12,65,13,21,18,24,26,11,9,10])\n",
        "y=np.array([22,29,32,36,42,48,12,17,21,8])\n",
        "\n",
        "mean_x=np.mean(x)\n",
        "mean_y=np.mean(y)\n",
        "var_x=np.var(x,ddof=1)\n",
        "var_y=np.var(y,ddof=1)\n",
        "cov=np.sum((x-mean_x)*(y-mean_y))/(N-1)\n",
        "correlation=cov/np.sqrt(var_x*var_y)\n",
        "print(\"x : \",x)\n",
        "print(\"y : \",y)\n",
        "print(\"correlation : \",correlation)"
      ],
      "metadata": {
        "colab": {
          "base_uri": "https://localhost:8080/"
        },
        "id": "RWVpcOiQ60E_",
        "outputId": "69a9bfb3-fd22-40c1-a3da-6db927782dbe"
      },
      "execution_count": null,
      "outputs": [
        {
          "output_type": "stream",
          "name": "stdout",
          "text": [
            "x :  [12 65 13 21 18 24 26 11  9 10]\n",
            "y :  [22 29 32 36 42 48 12 17 21  8]\n",
            "correlation :  0.2140908880509667\n"
          ]
        }
      ]
    },
    {
      "cell_type": "code",
      "source": [
        "import numpy as np\n",
        "M = 4\n",
        "N = 5\n",
        "matrix = np.array([\n",
        "    [3.1,2.7,5.1,0.9],\n",
        "    [1.5,3.1,6.2,1.2],\n",
        "    [2.6,1.4,7.3,4.5],\n",
        "    [3.5,2.3,8.4,7.8],\n",
        "    [9.7,4.1,9.5,2.3]\n",
        "])\n",
        "\n",
        "cov_matrix = np.cov(matrix, ddof=0)\n",
        "corr_matrix = np.corrcoef(matrix, rowvar=True)\n",
        "\n",
        "print(\"Matrix:\\n\", matrix)\n",
        "print(\"\\nCovariance Matrix:\\n\", cov_matrix)\n",
        "print(\"\\nCorrelation Matrix:\\n\", corr_matrix)\n"
      ],
      "metadata": {
        "colab": {
          "base_uri": "https://localhost:8080/"
        },
        "id": "HkhEMcYD_YOc",
        "outputId": "4afc01b6-e9d0-46d6-8491-135a6f93d809"
      },
      "execution_count": null,
      "outputs": [
        {
          "output_type": "stream",
          "name": "stdout",
          "text": [
            "Matrix:\n",
            " [[3.1 2.7 5.1 0.9]\n",
            " [1.5 3.1 6.2 1.2]\n",
            " [2.6 1.4 7.3 4.5]\n",
            " [3.5 2.3 8.4 7.8]\n",
            " [9.7 4.1 9.5 2.3]]\n",
            "\n",
            "Covariance Matrix:\n",
            " [[ 2.2275  2.58    1.6275  0.505   4.035 ]\n",
            " [ 2.58    3.935   2.875   1.955   3.03  ]\n",
            " [ 1.6275  2.875   4.9625  5.46    2.385 ]\n",
            " [ 0.505   1.955   5.46    6.985   0.08  ]\n",
            " [ 4.035   3.03    2.385   0.08   10.65  ]]\n",
            "\n",
            "Correlation Matrix:\n",
            " [[1.         0.87144199 0.48951035 0.12802634 0.82843775]\n",
            " [0.87144199 1.         0.65060174 0.37289897 0.46805346]\n",
            " [0.48951035 0.65060174 1.         0.9273831  0.32806758]\n",
            " [0.12802634 0.37289897 0.9273831  1.         0.00927539]\n",
            " [0.82843775 0.46805346 0.32806758 0.00927539 1.        ]]\n"
          ]
        }
      ]
    }
  ]
}